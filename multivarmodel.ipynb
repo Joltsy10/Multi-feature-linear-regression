{
 "cells": [
  {
   "cell_type": "code",
   "execution_count": 21,
   "metadata": {},
   "outputs": [],
   "source": [
    "import matplotlib.pyplot as plt\n",
    "import numpy as np\n",
    "import pandas as pd\n",
    "\n",
    "df = pd.read_csv('data.csv')\n",
    "x = []\n",
    "y = []\n",
    "x.append(df.iloc[:,0].values)\n",
    "x.append(df.iloc[:,1].values)\n",
    "x.append(df.iloc[:,2].values)\n",
    "y = (df.iloc[:,-1].values)\n",
    "mymodel = []\n",
    "l = 0.00001\n"
   ]
  },
  {
   "cell_type": "code",
   "execution_count": 22,
   "metadata": {},
   "outputs": [],
   "source": [
    "w = [0,0,0,0]"
   ]
  },
  {
   "cell_type": "code",
   "execution_count": 4,
   "metadata": {},
   "outputs": [],
   "source": [
    "def func():\n",
    "    X_T = np.transpose(x)\n",
    "    X_bias = np.c_[np.ones((X_T.shape[0], 1)), X_T]\n",
    "    return np.dot(X_bias,w)\n"
   ]
  },
  {
   "cell_type": "code",
   "execution_count": 2,
   "metadata": {},
   "outputs": [],
   "source": [
    "def cost_func():\n",
    "    predictions = func()\n",
    "    errors = predictions - y  \n",
    "    return np.sum(errors**2) / (2 * len(predictions))\n",
    "\n",
    "def gradient_descent():\n",
    "    global w\n",
    "    predictions = func()\n",
    "    error = predictions - y\n",
    "    temp_w1 = np.dot(error,x[0])/len(x[0])\n",
    "    temp_w2 = np.dot(error,x[1])/len(x[0])\n",
    "    temp_w3 = np.dot(error,x[2])/len(x[0])\n",
    "    temp_b = np.sum(error)/len(x[0])\n",
    "    w[0] -= l*temp_b\n",
    "    w[1] -= l*temp_w1\n",
    "    w[2] -= l*temp_w2\n",
    "    w[3] -= l*temp_w3\n"
   ]
  },
  {
   "cell_type": "code",
   "execution_count": 79,
   "metadata": {},
   "outputs": [],
   "source": [
    "mymodel = func()"
   ]
  },
  {
   "cell_type": "code",
   "execution_count": 78,
   "metadata": {},
   "outputs": [
    {
     "data": {
      "text/plain": [
       "np.float64(5112.934944176521)"
      ]
     },
     "execution_count": 78,
     "metadata": {},
     "output_type": "execute_result"
    }
   ],
   "source": [
    "cost_func()"
   ]
  },
  {
   "cell_type": "code",
   "execution_count": 77,
   "metadata": {},
   "outputs": [],
   "source": [
    "for n in range(100):\n",
    "    gradient_descent()"
   ]
  },
  {
   "cell_type": "code",
   "execution_count": 92,
   "metadata": {},
   "outputs": [
    {
     "data": {
      "text/plain": [
       "<function matplotlib.pyplot.show(close=None, block=None)>"
      ]
     },
     "execution_count": 92,
     "metadata": {},
     "output_type": "execute_result"
    },
    {
     "data": {
      "image/png": "[encoded data removed]",
      "text/plain": [
       "<Figure size 640x480 with 1 Axes>"
      ]
     },
     "metadata": {},
     "output_type": "display_data"
    }
   ],
   "source": [
    "\n",
    "plt.scatter(mymodel,y)\n",
    "plt.show"
   ]
  }
 ],
 "metadata": {
  "kernelspec": {
   "display_name": "Python 3",
   "language": "python",
   "name": "python3"
  },
  "language_info": {
   "codemirror_mode": {
    "name": "ipython",
    "version": 3
   },
   "file_extension": ".py",
   "mimetype": "text/x-python",
   "name": "python",
   "nbconvert_exporter": "python",
   "pygments_lexer": "ipython3",
   "version": "3.13.1"
  }
 },
 "nbformat": 4,
 "nbformat_minor": 2
}
